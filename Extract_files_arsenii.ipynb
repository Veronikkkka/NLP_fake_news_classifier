{
  "nbformat": 4,
  "nbformat_minor": 0,
  "metadata": {
    "colab": {
      "provenance": []
    },
    "kernelspec": {
      "name": "python3",
      "display_name": "Python 3"
    },
    "language_info": {
      "name": "python"
    }
  },
  "cells": [
    {
      "cell_type": "code",
      "source": [
        "import zipfile\n",
        "import os\n",
        "import pandas as pd\n",
        "import json\n"
      ],
      "metadata": {
        "id": "mENyFkIXTzY8"
      },
      "execution_count": 1,
      "outputs": []
    },
    {
      "cell_type": "code",
      "execution_count": 2,
      "metadata": {
        "id": "QCidoqx4SSQU"
      },
      "outputs": [],
      "source": [
        "base_path = '/content/drive/MyDrive/курс 4.1/NLP/Project/data'\n",
        "content_path = os.path.join(base_path, 'content')\n",
        "archive_path = os.path.join(base_path, 'archive')\n",
        "\n",
        "zip_paths = [os.path.join(archive_path, 'archive1.zip'),\n",
        "             os.path.join(archive_path, 'archive2.zip'),\n",
        "             os.path.join(archive_path, 'archive3.zip')]\n",
        "\n",
        "for zip_path in zip_paths:\n",
        "  with zipfile.ZipFile(zip_path, 'r') as zip_ref:\n",
        "      zip_ref.extractall(content_path)\n",
        "\n",
        "file1 = os.path.join(content_path, 'FA-KES-Dataset.csv')\n",
        "file2 = os.path.join(content_path, 'politifact_factcheck_data.json')\n",
        "file3 = os.path.join(content_path, 'Sarcasm_Headlines_Dataset_v2.json')"
      ]
    },
    {
      "cell_type": "code",
      "source": [
        "df = pd.read_csv(file1, encoding='ISO-8859-1')\n",
        "\n",
        "df_FAKES_Dataset = pd.DataFrame()\n",
        "\n",
        "df_FAKES_Dataset['Title'] = df['article_title']\n",
        "df_FAKES_Dataset['Text'] = df['article_content']\n",
        "df_FAKES_Dataset['Source'] = df['source']\n",
        "df_FAKES_Dataset['Fake'] = df['labels'].apply(lambda x: 1 if x == 1 else 0)\n",
        "\n",
        "print(df_FAKES_Dataset.head())\n"
      ],
      "metadata": {
        "colab": {
          "base_uri": "https://localhost:8080/"
        },
        "id": "9D-8dtJdbzxX",
        "outputId": "e0f44963-34d4-47cc-e3a8-db71ef954b57"
      },
      "execution_count": 3,
      "outputs": [
        {
          "output_type": "stream",
          "name": "stdout",
          "text": [
            "                                               Title  \\\n",
            "0  Syria attack symptoms consistent with nerve ag...   \n",
            "1  Homs governor says U.S. attack caused deaths b...   \n",
            "2    Death toll from Aleppo bomb attack at least 112   \n",
            "3        Aleppo bomb blast kills six Syrian state TV   \n",
            "4  29 Syria Rebels Dead in Fighting for Key Alepp...   \n",
            "\n",
            "                                                Text Source  Fake  \n",
            "0  Wed 05 Apr 2017 Syria attack symptoms consiste...    nna     0  \n",
            "1  Fri 07 Apr 2017 at 0914 Homs governor says U.S...    nna     0  \n",
            "2  Sun 16 Apr 2017 Death toll from Aleppo bomb at...    nna     0  \n",
            "3  Wed 19 Apr 2017 Aleppo bomb blast kills six Sy...    nna     0  \n",
            "4  Sun 10 Jul 2016 29 Syria Rebels Dead in Fighti...    nna     0  \n"
          ]
        }
      ]
    },
    {
      "cell_type": "code",
      "source": [
        "df = pd.read_json(file2, lines=True)\n",
        "df_politifact_factcheck = pd.DataFrame()\n",
        "\n",
        "df_politifact_factcheck['Title'] = None\n",
        "df_politifact_factcheck['Text'] = df['statement']\n",
        "df_politifact_factcheck['Source'] = df['statement_source']\n",
        "df_politifact_factcheck['Fake'] = df['verdict'].apply(lambda x: 1 if x in ['true', 'mostly-true', 'half-true'] else 0)\n",
        "\n",
        "print(df_politifact_factcheck.head())"
      ],
      "metadata": {
        "colab": {
          "base_uri": "https://localhost:8080/"
        },
        "id": "VA_k6onufLos",
        "outputId": "4a453f07-6bcd-4447-9dd0-42001828f015"
      },
      "execution_count": 4,
      "outputs": [
        {
          "output_type": "stream",
          "name": "stdout",
          "text": [
            "  Title                                               Text      Source  Fake\n",
            "0   NaN  John McCain opposed bankruptcy protections for...      speech     1\n",
            "1   NaN  \"Bennie Thompson actively cheer-led riots in t...  television     0\n",
            "2   NaN  Says Maggie Hassan was \"out of state on 30 day...        news     1\n",
            "3   NaN  \"BUSTED: CDC Inflated COVID Numbers, Accused o...        blog     0\n",
            "4   NaN  \"I'm the only (Republican) candidate that has ...  television     1\n"
          ]
        }
      ]
    },
    {
      "cell_type": "code",
      "source": [
        "df = pd.read_json(file3, lines=True)\n",
        "df_sarcasm = pd.DataFrame()\n",
        "\n",
        "df_sarcasm['Title'] = df['headline']\n",
        "df_sarcasm['Text'] = None\n",
        "df_sarcasm['Source'] = None\n",
        "df_sarcasm['Fake'] = df['is_sarcastic'].apply(lambda x: 'Sarcastic' if x == 1 else 'True')\n",
        "\n",
        "print(df_sarcasm.head())"
      ],
      "metadata": {
        "colab": {
          "base_uri": "https://localhost:8080/"
        },
        "id": "100EctiahL-L",
        "outputId": "159c2b34-a386-43fd-9982-1116b931e836"
      },
      "execution_count": 5,
      "outputs": [
        {
          "output_type": "stream",
          "name": "stdout",
          "text": [
            "                                               Title  Text Source       Fake\n",
            "0  thirtysomething scientists unveil doomsday clo...  None   None  Sarcastic\n",
            "1  dem rep. totally nails why congress is falling...  None   None       True\n",
            "2  eat your veggies: 9 deliciously different recipes  None   None       True\n",
            "3  inclement weather prevents liar from getting t...  None   None  Sarcastic\n",
            "4  mother comes pretty close to using word 'strea...  None   None  Sarcastic\n"
          ]
        }
      ]
    },
    {
      "cell_type": "code",
      "source": [
        "df_combined = pd.concat([df_FAKES_Dataset, df_politifact_factcheck], ignore_index=True)\n",
        "df_combined.drop_duplicates(inplace=True)\n",
        "df_sarcasm.drop_duplicates(inplace=True)\n",
        "\n",
        "save_path=os.path.join(base_path, 'result.csv')\n",
        "save_sarcastic_path=os.path.join(base_path, 'sarcastic.csv')\n",
        "\n",
        "df_combined.to_csv(save_path, index=False, encoding='utf-8')\n",
        "df_sarcasm.to_csv(save_sarcastic_path, index=False, encoding='utf-8')"
      ],
      "metadata": {
        "id": "rFyRduRti3_w"
      },
      "execution_count": 6,
      "outputs": []
    },
    {
      "cell_type": "code",
      "source": [
        "# Порожні значення (NaN або порожні рядки)\n",
        "empty_titles = df_combined[df_combined['Title'].str.strip() == '']\n",
        "empty_texts = df_combined[df_combined['Text'].str.strip() == '']\n",
        "\n",
        "# Неправильні типи значень (не рядки в колонках 'Title' та 'Text')\n",
        "incorrect_titles = df_combined[~df_combined['Title'].apply(type).eq(str)]\n",
        "incorrect_texts = df_combined[~df_combined['Text'].apply(type).eq(str)]\n",
        "\n",
        "# Занадто короткі або довгі значення (для 'Title' і 'Text')\n",
        "short_titles = df_combined[df_combined['Title'].str.len() < 10]\n",
        "short_texts = df_combined[df_combined['Text'].str.len() < 10]\n",
        "\n",
        "# Дублікати\n",
        "duplicates = df_combined[df_combined.duplicated()]\n",
        "\n",
        "# Виведення результатів\n",
        "print(f\"Кількість порожніх заголовків (Title): {empty_titles.shape[0]}\")\n",
        "print(\"Порожні заголовки:\")\n",
        "print(empty_titles[['Title']])\n",
        "\n",
        "print(f\"Кількість порожніх текстів (Text): {empty_texts.shape[0]}\")\n",
        "print(\"Порожні тексти:\")\n",
        "print(empty_texts[['Text']])\n",
        "\n",
        "print(f\"Кількість записів з неправильним типом в Title: {incorrect_titles.shape[0]}\")\n",
        "print(\"Записи з неправильним типом в Title:\")\n",
        "print(incorrect_titles[['Title']])\n",
        "\n",
        "print(f\"Кількість записів з неправильним типом в Text: {incorrect_texts.shape[0]}\")\n",
        "print(\"Записи з неправильним типом в Text:\")\n",
        "print(incorrect_texts[['Text']])\n",
        "\n",
        "print(f\"Кількість коротких заголовків (Title): {short_titles.shape[0]}\")\n",
        "print(\"Короткі заголовки:\")\n",
        "print(short_titles[['Title']])\n",
        "\n",
        "print(f\"Кількість коротких текстів (Text): {short_texts.shape[0]}\")\n",
        "print(\"Короткі тексти:\")\n",
        "print(short_texts[['Text']])\n",
        "\n",
        "print(f\"Кількість дублікатів: {duplicates.shape[0]}\")\n",
        "print(\"Дублікати:\")\n",
        "print(duplicates)\n"
      ],
      "metadata": {
        "colab": {
          "base_uri": "https://localhost:8080/"
        },
        "id": "6qV4dXk7wuL-",
        "outputId": "7d0f5c28-8462-4c23-f279-c1df017dd890"
      },
      "execution_count": 7,
      "outputs": [
        {
          "output_type": "stream",
          "name": "stdout",
          "text": [
            "Кількість порожніх заголовків (Title): 0\n",
            "Порожні заголовки:\n",
            "Empty DataFrame\n",
            "Columns: [Title]\n",
            "Index: []\n",
            "Кількість порожніх текстів (Text): 0\n",
            "Порожні тексти:\n",
            "Empty DataFrame\n",
            "Columns: [Text]\n",
            "Index: []\n",
            "Кількість записів з неправильним типом в Title: 21143\n",
            "Записи з неправильним типом в Title:\n",
            "      Title\n",
            "804     NaN\n",
            "805     NaN\n",
            "806     NaN\n",
            "807     NaN\n",
            "808     NaN\n",
            "...     ...\n",
            "21951   NaN\n",
            "21952   NaN\n",
            "21953   NaN\n",
            "21954   NaN\n",
            "21955   NaN\n",
            "\n",
            "[21143 rows x 1 columns]\n",
            "Кількість записів з неправильним типом в Text: 0\n",
            "Записи з неправильним типом в Text:\n",
            "Empty DataFrame\n",
            "Columns: [Text]\n",
            "Index: []\n",
            "Кількість коротких заголовків (Title): 0\n",
            "Короткі заголовки:\n",
            "Empty DataFrame\n",
            "Columns: [Title]\n",
            "Index: []\n",
            "Кількість коротких текстів (Text): 0\n",
            "Короткі тексти:\n",
            "Empty DataFrame\n",
            "Columns: [Text]\n",
            "Index: []\n",
            "Кількість дублікатів: 0\n",
            "Дублікати:\n",
            "Empty DataFrame\n",
            "Columns: [Title, Text, Source, Fake]\n",
            "Index: []\n"
          ]
        }
      ]
    },
    {
      "cell_type": "code",
      "source": [
        "#Два наших файли в 1\n",
        "df1 = pd.read_csv(os.path.join(base_path, 'result.csv'))\n",
        "df2 = pd.read_csv(os.path.join(base_path, 'nika_result.csv'))\n",
        "df = pd.concat([df1, df2], ignore_index=True)\n",
        "save_path=os.path.join(base_path, 'general.csv')\n",
        "df.to_csv(save_path, index=False, encoding='utf-8')"
      ],
      "metadata": {
        "id": "twAox-p6gPdc"
      },
      "execution_count": 10,
      "outputs": []
    }
  ]
}